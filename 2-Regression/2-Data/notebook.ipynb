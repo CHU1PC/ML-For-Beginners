{
 "cells": [
  {
   "cell_type": "code",
   "execution_count": 16,
   "metadata": {},
   "outputs": [],
   "source": [
    "import pandas as pd\n",
    "import os"
   ]
  },
  {
   "cell_type": "code",
   "execution_count": 42,
   "metadata": {},
   "outputs": [],
   "source": [
    "pumpkins = pd.read_csv(\"../data/US-pumpkins.csv\")\n",
    "pumpkins = pumpkins[pumpkins[\"Package\"].str.contains(\"bushel\", case=True, regex=True)]"
   ]
  },
  {
   "cell_type": "code",
   "execution_count": 44,
   "metadata": {},
   "outputs": [
    {
     "data": {
      "text/plain": [
       "(415, 26)"
      ]
     },
     "execution_count": 44,
     "metadata": {},
     "output_type": "execute_result"
    }
   ],
   "source": [
    "pumpkins.shape"
   ]
  },
  {
   "cell_type": "code",
   "execution_count": 45,
   "metadata": {},
   "outputs": [
    {
     "data": {
      "text/plain": [
       "City Name            0\n",
       "Type               406\n",
       "Package              0\n",
       "Variety              0\n",
       "Sub Variety        167\n",
       "Grade              415\n",
       "Date                 0\n",
       "Low Price            0\n",
       "High Price           0\n",
       "Mostly Low          24\n",
       "Mostly High         24\n",
       "Origin               0\n",
       "Origin District    396\n",
       "Item Size          114\n",
       "Color              145\n",
       "Environment        415\n",
       "Unit of Sale       404\n",
       "Quality            415\n",
       "Condition          415\n",
       "Appearance         415\n",
       "Storage            415\n",
       "Crop               415\n",
       "Repack               0\n",
       "Trans Mode         415\n",
       "Unnamed: 24        415\n",
       "Unnamed: 25        391\n",
       "dtype: int64"
      ]
     },
     "execution_count": 45,
     "metadata": {},
     "output_type": "execute_result"
    }
   ],
   "source": [
    "pumpkins.isna().sum()"
   ]
  },
  {
   "cell_type": "code",
   "execution_count": 46,
   "metadata": {},
   "outputs": [
    {
     "name": "stdout",
     "output_type": "stream",
     "text": [
      "Index(['Package', 'Low Price', 'High Price', 'Date'], dtype='object')\n",
      "Package       0\n",
      "Low Price     0\n",
      "High Price    0\n",
      "Date          0\n",
      "dtype: int64\n"
     ]
    }
   ],
   "source": [
    "pumpkins = pumpkins.loc[:, [\"Package\", \"Low Price\", \"High Price\", \"Date\"]]\n",
    "print(pumpkins.columns)\n",
    "print(pumpkins.isna().sum())"
   ]
  },
  {
   "cell_type": "code",
   "execution_count": 47,
   "metadata": {},
   "outputs": [],
   "source": [
    "price = (pumpkins[\"Low Price\"] + pumpkins[\"High Price\"]) / 2\n",
    "month = pd.DatetimeIndex(pumpkins[\"Date\"]).month"
   ]
  },
  {
   "cell_type": "code",
   "execution_count": 48,
   "metadata": {},
   "outputs": [
    {
     "name": "stdout",
     "output_type": "stream",
     "text": [
      "Index([ 9,  9, 10, 10, 10, 10, 10, 10, 10, 10,\n",
      "       ...\n",
      "        9,  9,  9,  9,  9,  9,  9,  9,  9,  9],\n",
      "      dtype='int32', name='Date', length=415)\n"
     ]
    }
   ],
   "source": [
    "print(month)"
   ]
  },
  {
   "cell_type": "code",
   "execution_count": 49,
   "metadata": {},
   "outputs": [],
   "source": [
    "new_pumpkins = pd.DataFrame({\"Month\": month, \"Package\": pumpkins[\"Package\"],\n",
    "                             \"Low Price\": pumpkins[\"Low Price\"], \"High price\": pumpkins[\"High Price\"],\n",
    "                             \"Price\": price})\n"
   ]
  },
  {
   "cell_type": "code",
   "execution_count": 54,
   "metadata": {},
   "outputs": [
    {
     "name": "stdout",
     "output_type": "stream",
     "text": [
      "Package\n",
      "1/2 bushel cartons      234\n",
      "1 1/9 bushel cartons    117\n",
      "bushel cartons           37\n",
      "1 1/9 bushel crates      17\n",
      "bushel baskets           10\n",
      "Name: count, dtype: int64\n"
     ]
    }
   ],
   "source": [
    "pack_unique = pumpkins[\"Package\"].value_counts()\n",
    "print(pack_unique)"
   ]
  },
  {
   "cell_type": "code",
   "execution_count": 55,
   "metadata": {},
   "outputs": [],
   "source": [
    "new_pumpkins.loc[new_pumpkins[\"Package\"].str.contains(\"1/2\"), \"Price\"] = price / (1 / 2)\n",
    "new_pumpkins.loc[new_pumpkins[\"Package\"].str.contains(\"1 1/9\"), \"Price\"] = price / (1 + 1 / 9)"
   ]
  },
  {
   "cell_type": "code",
   "execution_count": 56,
   "metadata": {},
   "outputs": [],
   "source": [
    "import matplotlib.pyplot as plt"
   ]
  },
  {
   "cell_type": "code",
   "execution_count": 57,
   "metadata": {},
   "outputs": [
    {
     "data": {
      "image/png": "[encoded data removed]",
      "text/plain": [
       "<Figure size 640x480 with 1 Axes>"
      ]
     },
     "metadata": {},
     "output_type": "display_data"
    }
   ],
   "source": [
    "price = new_pumpkins[\"Price\"]\n",
    "month = new_pumpkins[\"Month\"]\n",
    "plt.scatter(price, month)\n",
    "plt.show()"
   ]
  },
  {
   "cell_type": "code",
   "execution_count": null,
   "metadata": {},
   "outputs": [],
   "source": []
  }
 ],
 "metadata": {
  "kernelspec": {
   "display_name": "Python 3",
   "language": "python",
   "name": "python3"
  },
  "language_info": {
   "codemirror_mode": {
    "name": "ipython",
    "version": 3
   },
   "file_extension": ".py",
   "mimetype": "text/x-python",
   "name": "python",
   "nbconvert_exporter": "python",
   "pygments_lexer": "ipython3",
   "version": "3.12.9"
  },
  "orig_nbformat": 2
 },
 "nbformat": 4,
 "nbformat_minor": 2
}
